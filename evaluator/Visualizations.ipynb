{
 "cells": [
  {
   "cell_type": "code",
   "execution_count": 1,
   "metadata": {},
   "outputs": [],
   "source": [
    "%matplotlib inline\n",
    "import matplotlib.pyplot as plt\n",
    "import pandas as pd\n",
    "import seaborn as sns\n",
    "\n",
    "import json\n",
    "import os\n",
    "import re"
   ]
  },
  {
   "cell_type": "code",
   "execution_count": 2,
   "metadata": {},
   "outputs": [
    {
     "data": {
      "text/plain": [
       "{'start_point': 'fh', 'end_point': 'ld', 'human_speed': 2.0, 'human_count': 25}"
      ]
     },
     "execution_count": 2,
     "metadata": {},
     "output_type": "execute_result"
    }
   ],
   "source": [
    "def parse_scenario_name(scenario_name):\n",
    "    regex = 'sp\\.(\\w+)_ep\\.(\\w+)_hs\\.(\\d+|\\d+\\.\\d+)_hc\\.(\\d+)\\.json'\n",
    "    match = re.search(regex, scenario_name)\n",
    "    #print(scenario_name)\n",
    "    return {\n",
    "        'start_point': match.group(1),\n",
    "        'end_point': match.group(2),\n",
    "        'human_speed': float(match.group(3)),\n",
    "        'human_count': int(match.group(4))\n",
    "    }\n",
    "\n",
    "parse_scenario_name('sp.fh_ep.ld_hs.2_hc.25.json')"
   ]
  },
  {
   "cell_type": "code",
   "execution_count": 3,
   "metadata": {},
   "outputs": [
    {
     "data": {
      "text/html": [
       "<div>\n",
       "<style scoped>\n",
       "    .dataframe tbody tr th:only-of-type {\n",
       "        vertical-align: middle;\n",
       "    }\n",
       "\n",
       "    .dataframe tbody tr th {\n",
       "        vertical-align: top;\n",
       "    }\n",
       "\n",
       "    .dataframe thead th {\n",
       "        text-align: right;\n",
       "    }\n",
       "</style>\n",
       "<table border=\"1\" class=\"dataframe\">\n",
       "  <thead>\n",
       "    <tr style=\"text-align: right;\">\n",
       "      <th></th>\n",
       "      <th>time_to_goal</th>\n",
       "      <th>collision_count</th>\n",
       "      <th>min_distance_to_human</th>\n",
       "      <th>speed_stats.mean</th>\n",
       "      <th>difference_in_speed_with_near_humans.mean</th>\n",
       "      <th>difference_in_speed_with_near_humans.stdev</th>\n",
       "      <th>scenario.start_point</th>\n",
       "      <th>scenario.end_point</th>\n",
       "      <th>scenario.human_speed</th>\n",
       "      <th>scenario.human_count</th>\n",
       "    </tr>\n",
       "  </thead>\n",
       "  <tbody>\n",
       "    <tr>\n",
       "      <th>0</th>\n",
       "      <td>NaN</td>\n",
       "      <td>13</td>\n",
       "      <td>0.412679</td>\n",
       "      <td>0.080490</td>\n",
       "      <td>-1.458141</td>\n",
       "      <td>0.238906</td>\n",
       "      <td>rd</td>\n",
       "      <td>fh</td>\n",
       "      <td>1.5</td>\n",
       "      <td>20</td>\n",
       "    </tr>\n",
       "    <tr>\n",
       "      <th>1</th>\n",
       "      <td>NaN</td>\n",
       "      <td>6</td>\n",
       "      <td>0.035794</td>\n",
       "      <td>0.399712</td>\n",
       "      <td>-1.284046</td>\n",
       "      <td>0.587186</td>\n",
       "      <td>fh</td>\n",
       "      <td>rd</td>\n",
       "      <td>1.5</td>\n",
       "      <td>10</td>\n",
       "    </tr>\n",
       "    <tr>\n",
       "      <th>2</th>\n",
       "      <td>14.034605</td>\n",
       "      <td>2</td>\n",
       "      <td>0.247304</td>\n",
       "      <td>1.980437</td>\n",
       "      <td>0.985969</td>\n",
       "      <td>0.076089</td>\n",
       "      <td>ld</td>\n",
       "      <td>rd</td>\n",
       "      <td>1.0</td>\n",
       "      <td>15</td>\n",
       "    </tr>\n",
       "    <tr>\n",
       "      <th>3</th>\n",
       "      <td>18.095118</td>\n",
       "      <td>7</td>\n",
       "      <td>0.368654</td>\n",
       "      <td>1.975620</td>\n",
       "      <td>0.972329</td>\n",
       "      <td>0.066719</td>\n",
       "      <td>rd</td>\n",
       "      <td>fh</td>\n",
       "      <td>1.0</td>\n",
       "      <td>15</td>\n",
       "    </tr>\n",
       "    <tr>\n",
       "      <th>4</th>\n",
       "      <td>NaN</td>\n",
       "      <td>3</td>\n",
       "      <td>0.292190</td>\n",
       "      <td>1.718625</td>\n",
       "      <td>-0.256460</td>\n",
       "      <td>0.521384</td>\n",
       "      <td>rd</td>\n",
       "      <td>ld</td>\n",
       "      <td>2.0</td>\n",
       "      <td>10</td>\n",
       "    </tr>\n",
       "  </tbody>\n",
       "</table>\n",
       "</div>"
      ],
      "text/plain": [
       "   time_to_goal  collision_count  min_distance_to_human  speed_stats.mean  \\\n",
       "0           NaN               13               0.412679          0.080490   \n",
       "1           NaN                6               0.035794          0.399712   \n",
       "2     14.034605                2               0.247304          1.980437   \n",
       "3     18.095118                7               0.368654          1.975620   \n",
       "4           NaN                3               0.292190          1.718625   \n",
       "\n",
       "   difference_in_speed_with_near_humans.mean  \\\n",
       "0                                  -1.458141   \n",
       "1                                  -1.284046   \n",
       "2                                   0.985969   \n",
       "3                                   0.972329   \n",
       "4                                  -0.256460   \n",
       "\n",
       "   difference_in_speed_with_near_humans.stdev scenario.start_point  \\\n",
       "0                                    0.238906                   rd   \n",
       "1                                    0.587186                   fh   \n",
       "2                                    0.076089                   ld   \n",
       "3                                    0.066719                   rd   \n",
       "4                                    0.521384                   rd   \n",
       "\n",
       "  scenario.end_point  scenario.human_speed  scenario.human_count  \n",
       "0                 fh                   1.5                    20  \n",
       "1                 rd                   1.5                    10  \n",
       "2                 rd                   1.0                    15  \n",
       "3                 fh                   1.0                    15  \n",
       "4                 ld                   2.0                    10  "
      ]
     },
     "execution_count": 3,
     "metadata": {},
     "output_type": "execute_result"
    }
   ],
   "source": [
    "def load_evals(run):\n",
    "    eval_dir = os.path.join('evals', run)\n",
    "    eval_files = os.listdir(eval_dir)\n",
    "    evals = list()\n",
    "    for eval_file in eval_files:\n",
    "        eval_file_path = os.path.join(eval_dir, eval_file)\n",
    "        with open(eval_file_path, 'r') as f:\n",
    "            file_contents = f.read()\n",
    "            scenario_info = parse_scenario_name(eval_file)\n",
    "            eval_data = json.loads(file_contents)\n",
    "            eval_data['scenario'] = scenario_info\n",
    "            evals.append(eval_data)\n",
    "    return pd.json_normalize(evals)\n",
    "\n",
    "df = load_evals('1602829757')\n",
    "df.loc[df['time_to_goal'] >= 20, 'time_to_goal'] = None\n",
    "df.head()"
   ]
  },
  {
   "cell_type": "code",
   "execution_count": 4,
   "metadata": {},
   "outputs": [
    {
     "data": {
      "text/html": [
       "<div>\n",
       "<style scoped>\n",
       "    .dataframe tbody tr th:only-of-type {\n",
       "        vertical-align: middle;\n",
       "    }\n",
       "\n",
       "    .dataframe tbody tr th {\n",
       "        vertical-align: top;\n",
       "    }\n",
       "\n",
       "    .dataframe thead th {\n",
       "        text-align: right;\n",
       "    }\n",
       "</style>\n",
       "<table border=\"1\" class=\"dataframe\">\n",
       "  <thead>\n",
       "    <tr style=\"text-align: right;\">\n",
       "      <th></th>\n",
       "      <th>time_to_goal</th>\n",
       "      <th>collision_count</th>\n",
       "      <th>min_distance_to_human</th>\n",
       "      <th>speed_stats.mean</th>\n",
       "      <th>difference_in_speed_with_near_humans.mean</th>\n",
       "      <th>difference_in_speed_with_near_humans.stdev</th>\n",
       "      <th>scenario.start_point</th>\n",
       "      <th>scenario.end_point</th>\n",
       "      <th>scenario.human_speed</th>\n",
       "      <th>scenario.human_count</th>\n",
       "    </tr>\n",
       "  </thead>\n",
       "  <tbody>\n",
       "    <tr>\n",
       "      <th>2</th>\n",
       "      <td>14.034605</td>\n",
       "      <td>2</td>\n",
       "      <td>0.247304</td>\n",
       "      <td>1.980437</td>\n",
       "      <td>0.985969</td>\n",
       "      <td>7.608920e-02</td>\n",
       "      <td>ld</td>\n",
       "      <td>rd</td>\n",
       "      <td>1.0</td>\n",
       "      <td>15</td>\n",
       "    </tr>\n",
       "    <tr>\n",
       "      <th>3</th>\n",
       "      <td>18.095118</td>\n",
       "      <td>7</td>\n",
       "      <td>0.368654</td>\n",
       "      <td>1.975620</td>\n",
       "      <td>0.972329</td>\n",
       "      <td>6.671940e-02</td>\n",
       "      <td>rd</td>\n",
       "      <td>fh</td>\n",
       "      <td>1.0</td>\n",
       "      <td>15</td>\n",
       "    </tr>\n",
       "    <tr>\n",
       "      <th>5</th>\n",
       "      <td>7.099420</td>\n",
       "      <td>1</td>\n",
       "      <td>0.453751</td>\n",
       "      <td>1.990355</td>\n",
       "      <td>1.000000</td>\n",
       "      <td>2.273864e-08</td>\n",
       "      <td>ld</td>\n",
       "      <td>fh</td>\n",
       "      <td>1.0</td>\n",
       "      <td>1</td>\n",
       "    </tr>\n",
       "    <tr>\n",
       "      <th>10</th>\n",
       "      <td>18.099999</td>\n",
       "      <td>3</td>\n",
       "      <td>0.242022</td>\n",
       "      <td>1.980366</td>\n",
       "      <td>0.478019</td>\n",
       "      <td>1.255819e-01</td>\n",
       "      <td>rd</td>\n",
       "      <td>fh</td>\n",
       "      <td>1.5</td>\n",
       "      <td>5</td>\n",
       "    </tr>\n",
       "    <tr>\n",
       "      <th>11</th>\n",
       "      <td>18.089652</td>\n",
       "      <td>14</td>\n",
       "      <td>0.054567</td>\n",
       "      <td>1.978477</td>\n",
       "      <td>0.491907</td>\n",
       "      <td>4.838293e-02</td>\n",
       "      <td>rd</td>\n",
       "      <td>fh</td>\n",
       "      <td>1.5</td>\n",
       "      <td>15</td>\n",
       "    </tr>\n",
       "  </tbody>\n",
       "</table>\n",
       "</div>"
      ],
      "text/plain": [
       "    time_to_goal  collision_count  min_distance_to_human  speed_stats.mean  \\\n",
       "2      14.034605                2               0.247304          1.980437   \n",
       "3      18.095118                7               0.368654          1.975620   \n",
       "5       7.099420                1               0.453751          1.990355   \n",
       "10     18.099999                3               0.242022          1.980366   \n",
       "11     18.089652               14               0.054567          1.978477   \n",
       "\n",
       "    difference_in_speed_with_near_humans.mean  \\\n",
       "2                                    0.985969   \n",
       "3                                    0.972329   \n",
       "5                                    1.000000   \n",
       "10                                   0.478019   \n",
       "11                                   0.491907   \n",
       "\n",
       "    difference_in_speed_with_near_humans.stdev scenario.start_point  \\\n",
       "2                                 7.608920e-02                   ld   \n",
       "3                                 6.671940e-02                   rd   \n",
       "5                                 2.273864e-08                   ld   \n",
       "10                                1.255819e-01                   rd   \n",
       "11                                4.838293e-02                   rd   \n",
       "\n",
       "   scenario.end_point  scenario.human_speed  scenario.human_count  \n",
       "2                  rd                   1.0                    15  \n",
       "3                  fh                   1.0                    15  \n",
       "5                  fh                   1.0                     1  \n",
       "10                 fh                   1.5                     5  \n",
       "11                 fh                   1.5                    15  "
      ]
     },
     "execution_count": 4,
     "metadata": {},
     "output_type": "execute_result"
    }
   ],
   "source": [
    "success = df['time_to_goal'].notna()\n",
    "successes = df[success]\n",
    "successes.head()"
   ]
  },
  {
   "cell_type": "code",
   "execution_count": 5,
   "metadata": {},
   "outputs": [],
   "source": [
    "def split_data(start_point, end_point):\n",
    "    data = df\n",
    "    data = data[data['scenario.start_point'] == start_point]\n",
    "    data = data[data['scenario.end_point'] == end_point]\n",
    "    return data\n",
    "\n",
    "fh_to_ld = split_data('fh', 'ld')"
   ]
  },
  {
   "cell_type": "code",
   "execution_count": 6,
   "metadata": {
    "scrolled": true
   },
   "outputs": [
    {
     "data": {
      "text/plain": [
       "<matplotlib.axes._subplots.AxesSubplot at 0x7ff341288fd0>"
      ]
     },
     "execution_count": 6,
     "metadata": {},
     "output_type": "execute_result"
    },
    {
     "data": {
      "image/png": "[encoded data removed]",
      "text/plain": [
       "<Figure size 432x288 with 1 Axes>"
      ]
     },
     "metadata": {
      "needs_background": "light"
     },
     "output_type": "display_data"
    }
   ],
   "source": [
    "sns.boxplot(x=successes['min_distance_to_human'])"
   ]
  },
  {
   "cell_type": "code",
   "execution_count": 7,
   "metadata": {},
   "outputs": [
    {
     "data": {
      "text/plain": [
       "<matplotlib.axes._subplots.AxesSubplot at 0x7ff31d51eb20>"
      ]
     },
     "execution_count": 7,
     "metadata": {},
     "output_type": "execute_result"
    },
    {
     "data": {
      "image/png": "[encoded data removed]",
      "text/plain": [
       "<Figure size 432x288 with 1 Axes>"
      ]
     },
     "metadata": {
      "needs_background": "light"
     },
     "output_type": "display_data"
    }
   ],
   "source": [
    "sns.boxplot(x=successes['difference_in_speed_with_near_humans.mean'])"
   ]
  },
  {
   "cell_type": "code",
   "execution_count": 8,
   "metadata": {
    "scrolled": true
   },
   "outputs": [
    {
     "data": {
      "text/plain": [
       "<matplotlib.axes._subplots.AxesSubplot at 0x7ff31d49fd00>"
      ]
     },
     "execution_count": 8,
     "metadata": {},
     "output_type": "execute_result"
    },
    {
     "data": {
      "image/png": "[encoded data removed]",
      "text/plain": [
       "<Figure size 432x288 with 1 Axes>"
      ]
     },
     "metadata": {
      "needs_background": "light"
     },
     "output_type": "display_data"
    }
   ],
   "source": [
    "sns.regplot(x='difference_in_speed_with_near_humans.mean', y='collision_count', data=successes)\n",
    "# TODO: split speeds by state"
   ]
  },
  {
   "cell_type": "code",
   "execution_count": 9,
   "metadata": {},
   "outputs": [
    {
     "data": {
      "text/plain": [
       "<seaborn.axisgrid.FacetGrid at 0x7ff31d416ee0>"
      ]
     },
     "execution_count": 9,
     "metadata": {},
     "output_type": "execute_result"
    },
    {
     "data": {
      "image/png": "[encoded data removed]",
      "text/plain": [
       "<Figure size 483.625x360 with 1 Axes>"
      ]
     },
     "metadata": {
      "needs_background": "light"
     },
     "output_type": "display_data"
    }
   ],
   "source": [
    "sns.lmplot(x='difference_in_speed_with_near_humans.mean', y='collision_count', data=successes, hue='scenario.human_speed')"
   ]
  },
  {
   "cell_type": "code",
   "execution_count": 10,
   "metadata": {
    "scrolled": true
   },
   "outputs": [
    {
     "data": {
      "text/plain": [
       "<seaborn.axisgrid.FacetGrid at 0x7ff31d38e4f0>"
      ]
     },
     "execution_count": 10,
     "metadata": {},
     "output_type": "execute_result"
    },
    {
     "data": {
      "image/png": "[encoded data removed]",
      "text/plain": [
       "<Figure size 648x216 with 3 Axes>"
      ]
     },
     "metadata": {
      "needs_background": "light"
     },
     "output_type": "display_data"
    }
   ],
   "source": [
    "g = sns.FacetGrid(successes, col=\"scenario.human_speed\")\n",
    "g.map(sns.histplot, \"collision_count\")"
   ]
  },
  {
   "cell_type": "code",
   "execution_count": 11,
   "metadata": {},
   "outputs": [
    {
     "data": {
      "text/plain": [
       "<seaborn.axisgrid.FacetGrid at 0x7ff31d1ff940>"
      ]
     },
     "execution_count": 11,
     "metadata": {},
     "output_type": "execute_result"
    },
    {
     "data": {
      "image/png": "[encoded data removed]",
      "text/plain": [
       "<Figure size 1296x216 with 6 Axes>"
      ]
     },
     "metadata": {
      "needs_background": "light"
     },
     "output_type": "display_data"
    }
   ],
   "source": [
    "g = sns.FacetGrid(successes, col=\"scenario.human_count\")\n",
    "g.map(sns.histplot, \"collision_count\")"
   ]
  }
 ],
 "metadata": {
  "kernelspec": {
   "display_name": "Python 3.8.5 64-bit ('3.8.5': pyenv)",
   "language": "python",
   "name": "python38564bit385pyenvea6e3ac6e63241c4b8151a6a91346835"
  },
  "language_info": {
   "codemirror_mode": {
    "name": "ipython",
    "version": 3
   },
   "file_extension": ".py",
   "mimetype": "text/x-python",
   "name": "python",
   "nbconvert_exporter": "python",
   "pygments_lexer": "ipython3",
   "version": "3.8.5"
  }
 },
 "nbformat": 4,
 "nbformat_minor": 4
}
